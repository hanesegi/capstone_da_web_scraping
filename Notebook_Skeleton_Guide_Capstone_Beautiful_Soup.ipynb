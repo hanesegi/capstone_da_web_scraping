{
  "cells": [
    {
      "cell_type": "markdown",
      "metadata": {
        "id": "50-NM-OSm8e3"
      },
      "source": [
        "# Capstone Webscrapping using BeautifulSoup\n",
        "\n",
        "This notebook contains guidances & tasks on the data processing for the application\n",
        "\n",
        "## background\n",
        "\n",
        "(Please insert the background here )\n",
        "\n",
        "## Requesting the Data and Creating a BeautifulSoup\n",
        "\n",
        "Let's begin with requesting the web from the site with `get` method."
      ]
    },
    {
      "cell_type": "code",
      "execution_count": 1,
      "metadata": {
        "ExecuteTime": {
          "end_time": "2020-01-13T05:12:23.275508Z",
          "start_time": "2020-01-13T05:12:20.009898Z"
        },
        "id": "9e-pUr-Bm8fC"
      },
      "outputs": [],
      "source": [
        "import numpy as np\n",
        "import requests\n",
        "\n",
        "url_get = requests.get('https://www.imdb.com/search/title/?release_date=2021-01-01,2021-12-31')"
      ]
    },
    {
      "cell_type": "markdown",
      "metadata": {
        "id": "1mA0BTt8m8fH"
      },
      "source": [
        "To visualize what exactly you get from the `request.get`, we can use .content so ee what we exactly get, in here i slice it so it won't make our screen full of the html we get from the page. You can delete the slicing if you want to see what we fully get."
      ]
    },
    {
      "cell_type": "code",
      "execution_count": 2,
      "metadata": {
        "ExecuteTime": {
          "end_time": "2020-01-13T05:12:23.290648Z",
          "start_time": "2020-01-13T05:12:23.277650Z"
        },
        "colab": {
          "base_uri": "https://localhost:8080/"
        },
        "id": "AJGRpQ_im8fJ",
        "outputId": "357ae5fb-1004-4318-8b96-7c3dec9ef494"
      },
      "outputs": [
        {
          "data": {
            "text/plain": [
              "b'\\n<!DOCTYPE html>\\n<html\\n    xmlns:og=\"http://ogp.me/ns#\"\\n    xmlns:fb=\"http://www.facebook.com/2008/fbml\">\\n    <head>\\n         \\n\\n        <meta charset=\"utf-8\">\\n\\n\\n\\n\\n        <script type=\"text/javascript\">var IMDbTimer={starttime: new Date().getTime(),pt:\\'java\\'};</script>\\n\\n<script>\\n    if (typeof uet == \\'function\\') {\\n      uet(\"bb\", \"LoadTitle\", {wb: 1});\\n    }\\n</script>\\n  <script>(function(t){ (t.events = t.events || {})[\"csm_head_pre_title\"] = new Date().getTime(); })(IMDbTimer);</script>\\n      '"
            ]
          },
          "execution_count": 2,
          "metadata": {},
          "output_type": "execute_result"
        }
      ],
      "source": [
        "url_get.content[1:500]"
      ]
    },
    {
      "cell_type": "markdown",
      "metadata": {
        "id": "VCKOhiJvm8fL"
      },
      "source": [
        "As we can see we get a very unstructured and complex html, which actually contains the codes needed to show the webpages on your web browser. But we as human still confused what and where we can use that piece of code, so here where we use the beautifulsoup. Beautiful soup class will result a beautifulsoup object. Beautiful Soup transforms a complex HTML document into a complex tree of Python objects. \n",
        "\n",
        "Let's make Beautiful soup object and feel free to explore the object here."
      ]
    },
    {
      "cell_type": "code",
      "execution_count": 3,
      "metadata": {
        "ExecuteTime": {
          "end_time": "2020-01-13T05:12:23.808122Z",
          "start_time": "2020-01-13T05:12:23.292610Z"
        },
        "id": "VGS-3M2Sm8fN"
      },
      "outputs": [],
      "source": [
        "from bs4 import BeautifulSoup \n",
        "\n",
        "soup = BeautifulSoup(url_get.content,\"html.parser\")"
      ]
    },
    {
      "cell_type": "markdown",
      "metadata": {
        "id": "4a7cMP6sm8fO"
      },
      "source": [
        "## Finding the right key to scrap the data & Extracting the right information"
      ]
    },
    {
      "cell_type": "markdown",
      "metadata": {
        "id": "K1o9VwTGm8fP"
      },
      "source": [
        "Find the key and put the key into the `.find()` Put all the exploring the right key at this cell. (please change this markdown with your explanation)"
      ]
    },
    {
      "cell_type": "code",
      "execution_count": 4,
      "metadata": {
        "ExecuteTime": {
          "end_time": "2020-01-13T05:12:23.878904Z",
          "start_time": "2020-01-13T05:12:23.854974Z"
        },
        "colab": {
          "base_uri": "https://localhost:8080/"
        },
        "id": "yse9kazSm8fS",
        "outputId": "c453f434-71c3-45bf-8ebd-473e57808f10"
      },
      "outputs": [
        {
          "name": "stdout",
          "output_type": "stream",
          "text": [
            "div class=\"lister-list\">\n",
            " <div class=\"lister-item mode-advanced\">\n",
            "  <div class=\"lister-top-right\">\n",
            "   <div class=\"ribbonize\" data-caller=\"filmosearch\" data-tconst=\"tt8179402\">\n",
            "   </div>\n",
            "  </div>\n",
            "  <div class=\"lister-item-image float-left\">\n",
            "   <a href=\"/title/tt8179402/\">\n",
            "    <img alt=\"Fate: The Winx Saga\" class=\"loadlate\" data-tconst=\"tt8179402\" height=\"98\" loadlate=\"https://m.media-amazon.com/images/M/MV5BMzEyYzBhODYtZjZlOC00MTM4LWIxMjQtMTRhZjA5ODM4ZWI2XkEyXkFqcGdeQXVyODQwODA1MjY@._V1_UY98_CR5\n"
          ]
        }
      ],
      "source": [
        "table = soup.find('div', attrs={'class':'lister-list'})\n",
        "print(table.prettify()[1:500])"
      ]
    },
    {
      "cell_type": "markdown",
      "metadata": {
        "id": "EgH69xjrm8fV"
      },
      "source": [
        "Finding row length."
      ]
    },
    {
      "cell_type": "code",
      "execution_count": 5,
      "metadata": {
        "id": "ow5H12B_m8fX"
      },
      "outputs": [],
      "source": [
        "content = table.find_all(\"div\", attrs={'class':'lister-item-content'})"
      ]
    },
    {
      "cell_type": "code",
      "execution_count": 6,
      "metadata": {
        "colab": {
          "base_uri": "https://localhost:8080/"
        },
        "id": "_aBLJ7Yhm8fZ",
        "outputId": "1b22c64a-bb6c-42fc-a63f-b1004c2629a9"
      },
      "outputs": [
        {
          "data": {
            "text/plain": [
              "50"
            ]
          },
          "execution_count": 6,
          "metadata": {},
          "output_type": "execute_result"
        }
      ],
      "source": [
        "row_length = len(content)\n",
        "row_length"
      ]
    },
    {
      "cell_type": "markdown",
      "metadata": {
        "id": "vITGMv52m8fb"
      },
      "source": [
        "Do the scrapping process here (please change this markdown with your explanation)"
      ]
    },
    {
      "cell_type": "code",
      "execution_count": 7,
      "metadata": {
        "ExecuteTime": {
          "end_time": "2020-01-13T05:12:24.008256Z",
          "start_time": "2020-01-13T05:12:23.980358Z"
        },
        "colab": {
          "base_uri": "https://localhost:8080/"
        },
        "id": "2aVC_Ekhm8fc",
        "outputId": "9137e64a-c7e0-4827-fa6a-e6014f6c8df2"
      },
      "outputs": [
        {
          "data": {
            "text/plain": [
              "[('Fate: The Winx Saga', '6.9', nan, '44730'),\n",
              " ('The White Lotus', '7.6', nan, '67913'),\n",
              " ('Only Murders in the Building', '8.1', nan, '96528'),\n",
              " ('Abbott Elementary', '8.2', nan, '13828'),\n",
              " ('The Black Phone', '7.0', nan, '113724'),\n",
              " ('Resident Alien', '8.1', nan, '39292'),\n",
              " ('American Horror Stories', '6.2', nan, '20822'),\n",
              " ('1883', '8.8', nan, '63275'),\n",
              " ('Reservation Dogs', '8.1', nan, '14672'),\n",
              " ('Spider-Man: No Way Home', '8.3', nan, '730837'),\n",
              " ('La scuola cattolica', '5.7', nan, '1829'),\n",
              " ('Dune: Part One', '8.0', nan, '614759'),\n",
              " ('Licorice Pizza', '7.2', nan, '105814'),\n",
              " ('Forsvinningen på Lørenskog', '6.1', nan, '1096'),\n",
              " ('Dopesick', '8.6', nan, '54631'),\n",
              " (\"NCIS: Hawai'i\", '6.3', nan, '5548'),\n",
              " ('Mona Lisa and the Blood Moon', '6.2', nan, '1070'),\n",
              " ('The Little Things', '6.3', '54        ', '99699'),\n",
              " ('Bloodlands', '6.6', nan, '5086'),\n",
              " ('Arcane: League of Legends', '9.0', nan, '198005'),\n",
              " ('Yellowjackets', '7.9', nan, '44929'),\n",
              " ('The Wheel of Time', '7.1', nan, '102484'),\n",
              " ('Sing 2', '7.4', '49        ', '65869'),\n",
              " ('No Time to Die', '7.3', nan, '390440'),\n",
              " ('The Matrix Resurrections', '5.7', nan, '243375'),\n",
              " ('Ojing-eo geim', '8.0', nan, '436281'),\n",
              " ('Snabba cash', '7.6', nan, '9361'),\n",
              " ('House of Gucci', '6.6', '59        ', '130109'),\n",
              " ('Last Night in Soho', '7.1', nan, '130565'),\n",
              " ('Hacks', '8.2', nan, '28777'),\n",
              " ('Ghosts', '7.8', nan, '14823'),\n",
              " ('Law & Order: Organized Crime', '7.7', nan, '7096'),\n",
              " ('Ghostbusters: Afterlife', '7.1', '45        ', '176451'),\n",
              " ('La Brea', '5.7', nan, '10276'),\n",
              " ('Pleasure', '6.3', nan, '15084'),\n",
              " ('Gekijouban Jujutsu Kaisen 0', '7.9', nan, '15030'),\n",
              " ('Eternals', '6.3', '52        ', '333624'),\n",
              " ('Mare of Easttown', '8.4', nan, '152214'),\n",
              " ('Midnight Mass', '7.7', nan, '111519'),\n",
              " ('The Book of Boba Fett', '7.3', nan, '144525'),\n",
              " ('Home Economics', '6.7', nan, '4002'),\n",
              " ('Shadow and Bone', '7.6', nan, '83036'),\n",
              " (\"Don't Look Up\", '7.2', '49        ', '526692'),\n",
              " ('Loki', '8.2', nan, '306632'),\n",
              " ('FBI: International', '6.3', nan, '3895'),\n",
              " ('Spencer', '6.6', nan, '66100'),\n",
              " ('Sex/Life', '5.4', nan, '21158'),\n",
              " ('The Last Duel', '7.4', nan, '152214'),\n",
              " ('Free Guy', '7.1', nan, '361374'),\n",
              " ('Old', '5.8', '55        ', '116970')]"
            ]
          },
          "execution_count": 7,
          "metadata": {},
          "output_type": "execute_result"
        }
      ],
      "source": [
        "temp = [] #initiating a tuple\n",
        "\n",
        "for i in range(0, row_length):\n",
        "    \n",
        "    # Titles\n",
        "    titles = content[i].find('a').text\n",
        "        \n",
        "    # Ratings and Metascores\n",
        "    imdb_ratings = content[i].find('strong')\n",
        "    if imdb_ratings is not None:\n",
        "        imdb_ratings = imdb_ratings.text\n",
        "    else: imdb_ratings = np.nan\n",
        "    imdb_metascores = content[i].find('span', attrs={'class':'metascore mixed'})\n",
        "    if imdb_metascores is not None:\n",
        "        imdb_metascores = imdb_metascores.text\n",
        "    else: imdb_metascores = np.nan\n",
        "    \n",
        "    # Votes\n",
        "    imdb_votes = content[i].find('span', attrs={'name':'nv'})\n",
        "    if imdb_votes is not None:\n",
        "        imdb_votes = imdb_votes.text.replace(',','')\n",
        "    else: imdb_votes = np.nan\n",
        "    \n",
        "    temp.append((titles, imdb_ratings, imdb_metascores, imdb_votes))\n",
        "    \n",
        "temp "
      ]
    },
    {
      "cell_type": "markdown",
      "metadata": {
        "id": "PTy0NgD7m8fe"
      },
      "source": [
        "## Creating data frame & Data wrangling"
      ]
    },
    {
      "cell_type": "markdown",
      "metadata": {
        "id": "B1Xjvrcem8fe"
      },
      "source": [
        "Put the array into dataframe"
      ]
    },
    {
      "cell_type": "code",
      "execution_count": 8,
      "metadata": {
        "ExecuteTime": {
          "end_time": "2020-01-13T05:12:41.517372Z",
          "start_time": "2020-01-13T05:12:29.130015Z"
        },
        "colab": {
          "base_uri": "https://localhost:8080/",
          "height": 206
        },
        "id": "ndfyMoVym8ff",
        "outputId": "e011193b-ac68-453a-85b6-a40c7b8153e1"
      },
      "outputs": [
        {
          "data": {
            "text/html": [
              "<div>\n",
              "<style scoped>\n",
              "    .dataframe tbody tr th:only-of-type {\n",
              "        vertical-align: middle;\n",
              "    }\n",
              "\n",
              "    .dataframe tbody tr th {\n",
              "        vertical-align: top;\n",
              "    }\n",
              "\n",
              "    .dataframe thead th {\n",
              "        text-align: right;\n",
              "    }\n",
              "</style>\n",
              "<table border=\"1\" class=\"dataframe\">\n",
              "  <thead>\n",
              "    <tr style=\"text-align: right;\">\n",
              "      <th></th>\n",
              "      <th>Title</th>\n",
              "      <th>Rating</th>\n",
              "      <th>Metascore</th>\n",
              "      <th>Votes</th>\n",
              "    </tr>\n",
              "  </thead>\n",
              "  <tbody>\n",
              "    <tr>\n",
              "      <th>0</th>\n",
              "      <td>Fate: The Winx Saga</td>\n",
              "      <td>6.9</td>\n",
              "      <td>NaN</td>\n",
              "      <td>44730</td>\n",
              "    </tr>\n",
              "    <tr>\n",
              "      <th>1</th>\n",
              "      <td>The White Lotus</td>\n",
              "      <td>7.6</td>\n",
              "      <td>NaN</td>\n",
              "      <td>67913</td>\n",
              "    </tr>\n",
              "    <tr>\n",
              "      <th>2</th>\n",
              "      <td>Only Murders in the Building</td>\n",
              "      <td>8.1</td>\n",
              "      <td>NaN</td>\n",
              "      <td>96528</td>\n",
              "    </tr>\n",
              "    <tr>\n",
              "      <th>3</th>\n",
              "      <td>Abbott Elementary</td>\n",
              "      <td>8.2</td>\n",
              "      <td>NaN</td>\n",
              "      <td>13828</td>\n",
              "    </tr>\n",
              "    <tr>\n",
              "      <th>4</th>\n",
              "      <td>The Black Phone</td>\n",
              "      <td>7.0</td>\n",
              "      <td>NaN</td>\n",
              "      <td>113724</td>\n",
              "    </tr>\n",
              "  </tbody>\n",
              "</table>\n",
              "</div>"
            ],
            "text/plain": [
              "                          Title Rating Metascore   Votes\n",
              "0           Fate: The Winx Saga    6.9       NaN   44730\n",
              "1               The White Lotus    7.6       NaN   67913\n",
              "2  Only Murders in the Building    8.1       NaN   96528\n",
              "3             Abbott Elementary    8.2       NaN   13828\n",
              "4               The Black Phone    7.0       NaN  113724"
            ]
          },
          "execution_count": 8,
          "metadata": {},
          "output_type": "execute_result"
        }
      ],
      "source": [
        "import pandas as pd\n",
        "\n",
        "df = pd.DataFrame(temp, columns=['Title', 'Rating', 'Metascore', 'Votes'])\n",
        "df.head()"
      ]
    },
    {
      "cell_type": "markdown",
      "metadata": {
        "id": "-EYrn00pm8fh"
      },
      "source": [
        "Do the data cleaning here (please change this markdown with your explanation of what you do for data wrangling)"
      ]
    },
    {
      "cell_type": "code",
      "execution_count": 9,
      "metadata": {
        "ExecuteTime": {
          "end_time": "2020-01-13T05:12:59.165559Z",
          "start_time": "2020-01-13T05:12:58.910012Z"
        },
        "colab": {
          "base_uri": "https://localhost:8080/"
        },
        "id": "A77nyY2Wm8fi",
        "outputId": "b426483a-7cb0-4f52-8e37-89cfaf73b568"
      },
      "outputs": [
        {
          "data": {
            "text/plain": [
              "Title        object\n",
              "Rating       object\n",
              "Metascore    object\n",
              "Votes        object\n",
              "dtype: object"
            ]
          },
          "execution_count": 9,
          "metadata": {},
          "output_type": "execute_result"
        }
      ],
      "source": [
        "#check tipe data\n",
        "df.dtypes"
      ]
    },
    {
      "cell_type": "code",
      "execution_count": 10,
      "metadata": {
        "colab": {
          "base_uri": "https://localhost:8080/"
        },
        "id": "xEMbvxg2m8fj",
        "outputId": "6fc0ee30-59c1-4daf-b1e2-722efe7508ca"
      },
      "outputs": [
        {
          "data": {
            "text/plain": [
              "Title         0\n",
              "Rating        0\n",
              "Metascore    43\n",
              "Votes         0\n",
              "dtype: int64"
            ]
          },
          "execution_count": 10,
          "metadata": {},
          "output_type": "execute_result"
        }
      ],
      "source": [
        "# check missing value\n",
        "df.isna().sum()"
      ]
    },
    {
      "cell_type": "code",
      "execution_count": 11,
      "metadata": {},
      "outputs": [],
      "source": [
        "#ubah format data\n",
        "df[['Rating', 'Metascore', 'Votes']] = df[['Rating', 'Metascore', 'Votes']].astype('float64')\n",
        "df['Votes'] = df['Votes']/10000\n",
        "df['Metascore'] = df['Metascore']/10\n",
        "\n",
        "# handle missing value dengan fillna\n",
        "df = df.fillna(0)"
      ]
    },
    {
      "cell_type": "markdown",
      "metadata": {
        "id": "eHz5wy5Am8fk"
      },
      "source": [
        "Data visualisation (please change this markdown with your explanation of what you do for data wrangling)"
      ]
    },
    {
      "cell_type": "code",
      "execution_count": 12,
      "metadata": {
        "colab": {
          "base_uri": "https://localhost:8080/",
          "height": 143
        },
        "id": "njJ98z3Fm8fk",
        "outputId": "3de2c4d3-69da-486f-b746-ea03d0b95f65"
      },
      "outputs": [],
      "source": [
        "# import library\n",
        "import matplotlib.pyplot as plt\n",
        "import plotly.graph_objects as go\n"
      ]
    },
    {
      "cell_type": "code",
      "execution_count": 13,
      "metadata": {},
      "outputs": [
        {
          "data": {
            "image/png": "[encoded data removed]",
            "text/plain": [
              "<Figure size 1500x500 with 1 Axes>"
            ]
          },
          "metadata": {},
          "output_type": "display_data"
        }
      ],
      "source": [
        "#Visualisasi rating dan metascore\n",
        "fig = plt.figure(1, figsize=(15,5))\n",
        "\n",
        "plt.subplot(1,3,1)\n",
        "_ = df[['Title', 'Rating', 'Metascore']].set_index('Title').sort_values('Metascore', ascending=False)\\\n",
        ".head().plot.bar(ax=plt.gca(), title='Peringkat berdasarkan Metascore')\n",
        "\n"
      ]
    },
    {
      "cell_type": "markdown",
      "metadata": {
        "id": "w9zPCEuim8fo"
      },
      "source": [
        "* Insight\n",
        "<p align=\"justify\">\n",
        "    Berdasarkan visualisasi data diatas dapat mengetahui rating film berdasarkan metascore:\n",
        "    <br>\n",
        "    1. Film yang memiliki penilaian metascore oleh penonton tertinggi adalah film house of Gucci\n",
        "    \n",
        "</p>"
      ]
    },
    {
      "cell_type": "code",
      "execution_count": 14,
      "metadata": {},
      "outputs": [],
      "source": [
        "#menyiapkan 10 film tertinggi berdasarkan rating\n",
        "top5film = df.sort_values(by=['Rating'], ascending=False).head()"
      ]
    },
    {
      "cell_type": "code",
      "execution_count": 15,
      "metadata": {},
      "outputs": [
        {
          "data": {
            "application/vnd.plotly.v1+json": {
              "config": {
                "plotlyServerURL": "https://plot.ly"
              },
              "data": [
                {
                  "cells": {
                    "align": "left",
                    "fill": {
                      "color": "lavender"
                    },
                    "height": 30,
                    "values": [
                      [
                        "Arcane: League of Legends",
                        "1883",
                        "Dopesick",
                        "Mare of Easttown",
                        "Spider-Man: No Way Home"
                      ],
                      [
                        9,
                        8.8,
                        8.6,
                        8.4,
                        8.3
                      ],
                      [
                        19.8005,
                        6.3275,
                        5.4631,
                        15.2214,
                        73.0837
                      ]
                    ]
                  },
                  "header": {
                    "align": "left",
                    "fill": {
                      "color": "paleturquoise"
                    },
                    "font": {
                      "color": "black",
                      "size": 13
                    },
                    "height": 30,
                    "values": [
                      "Title",
                      "Rating",
                      "Votes"
                    ]
                  },
                  "type": "table"
                }
              ],
              "layout": {
                "template": {
                  "data": {
                    "bar": [
                      {
                        "error_x": {
                          "color": "#2a3f5f"
                        },
                        "error_y": {
                          "color": "#2a3f5f"
                        },
                        "marker": {
                          "line": {
                            "color": "#E5ECF6",
                            "width": 0.5
                          },
                          "pattern": {
                            "fillmode": "overlay",
                            "size": 10,
                            "solidity": 0.2
                          }
                        },
                        "type": "bar"
                      }
                    ],
                    "barpolar": [
                      {
                        "marker": {
                          "line": {
                            "color": "#E5ECF6",
                            "width": 0.5
                          },
                          "pattern": {
                            "fillmode": "overlay",
                            "size": 10,
                            "solidity": 0.2
                          }
                        },
                        "type": "barpolar"
                      }
                    ],
                    "carpet": [
                      {
                        "aaxis": {
                          "endlinecolor": "#2a3f5f",
                          "gridcolor": "white",
                          "linecolor": "white",
                          "minorgridcolor": "white",
                          "startlinecolor": "#2a3f5f"
                        },
                        "baxis": {
                          "endlinecolor": "#2a3f5f",
                          "gridcolor": "white",
                          "linecolor": "white",
                          "minorgridcolor": "white",
                          "startlinecolor": "#2a3f5f"
                        },
                        "type": "carpet"
                      }
                    ],
                    "choropleth": [
                      {
                        "colorbar": {
                          "outlinewidth": 0,
                          "ticks": ""
                        },
                        "type": "choropleth"
                      }
                    ],
                    "contour": [
                      {
                        "colorbar": {
                          "outlinewidth": 0,
                          "ticks": ""
                        },
                        "colorscale": [
                          [
                            0,
                            "#0d0887"
                          ],
                          [
                            0.1111111111111111,
                            "#46039f"
                          ],
                          [
                            0.2222222222222222,
                            "#7201a8"
                          ],
                          [
                            0.3333333333333333,
                            "#9c179e"
                          ],
                          [
                            0.4444444444444444,
                            "#bd3786"
                          ],
                          [
                            0.5555555555555556,
                            "#d8576b"
                          ],
                          [
                            0.6666666666666666,
                            "#ed7953"
                          ],
                          [
                            0.7777777777777778,
                            "#fb9f3a"
                          ],
                          [
                            0.8888888888888888,
                            "#fdca26"
                          ],
                          [
                            1,
                            "#f0f921"
                          ]
                        ],
                        "type": "contour"
                      }
                    ],
                    "contourcarpet": [
                      {
                        "colorbar": {
                          "outlinewidth": 0,
                          "ticks": ""
                        },
                        "type": "contourcarpet"
                      }
                    ],
                    "heatmap": [
                      {
                        "colorbar": {
                          "outlinewidth": 0,
                          "ticks": ""
                        },
                        "colorscale": [
                          [
                            0,
                            "#0d0887"
                          ],
                          [
                            0.1111111111111111,
                            "#46039f"
                          ],
                          [
                            0.2222222222222222,
                            "#7201a8"
                          ],
                          [
                            0.3333333333333333,
                            "#9c179e"
                          ],
                          [
                            0.4444444444444444,
                            "#bd3786"
                          ],
                          [
                            0.5555555555555556,
                            "#d8576b"
                          ],
                          [
                            0.6666666666666666,
                            "#ed7953"
                          ],
                          [
                            0.7777777777777778,
                            "#fb9f3a"
                          ],
                          [
                            0.8888888888888888,
                            "#fdca26"
                          ],
                          [
                            1,
                            "#f0f921"
                          ]
                        ],
                        "type": "heatmap"
                      }
                    ],
                    "heatmapgl": [
                      {
                        "colorbar": {
                          "outlinewidth": 0,
                          "ticks": ""
                        },
                        "colorscale": [
                          [
                            0,
                            "#0d0887"
                          ],
                          [
                            0.1111111111111111,
                            "#46039f"
                          ],
                          [
                            0.2222222222222222,
                            "#7201a8"
                          ],
                          [
                            0.3333333333333333,
                            "#9c179e"
                          ],
                          [
                            0.4444444444444444,
                            "#bd3786"
                          ],
                          [
                            0.5555555555555556,
                            "#d8576b"
                          ],
                          [
                            0.6666666666666666,
                            "#ed7953"
                          ],
                          [
                            0.7777777777777778,
                            "#fb9f3a"
                          ],
                          [
                            0.8888888888888888,
                            "#fdca26"
                          ],
                          [
                            1,
                            "#f0f921"
                          ]
                        ],
                        "type": "heatmapgl"
                      }
                    ],
                    "histogram": [
                      {
                        "marker": {
                          "pattern": {
                            "fillmode": "overlay",
                            "size": 10,
                            "solidity": 0.2
                          }
                        },
                        "type": "histogram"
                      }
                    ],
                    "histogram2d": [
                      {
                        "colorbar": {
                          "outlinewidth": 0,
                          "ticks": ""
                        },
                        "colorscale": [
                          [
                            0,
                            "#0d0887"
                          ],
                          [
                            0.1111111111111111,
                            "#46039f"
                          ],
                          [
                            0.2222222222222222,
                            "#7201a8"
                          ],
                          [
                            0.3333333333333333,
                            "#9c179e"
                          ],
                          [
                            0.4444444444444444,
                            "#bd3786"
                          ],
                          [
                            0.5555555555555556,
                            "#d8576b"
                          ],
                          [
                            0.6666666666666666,
                            "#ed7953"
                          ],
                          [
                            0.7777777777777778,
                            "#fb9f3a"
                          ],
                          [
                            0.8888888888888888,
                            "#fdca26"
                          ],
                          [
                            1,
                            "#f0f921"
                          ]
                        ],
                        "type": "histogram2d"
                      }
                    ],
                    "histogram2dcontour": [
                      {
                        "colorbar": {
                          "outlinewidth": 0,
                          "ticks": ""
                        },
                        "colorscale": [
                          [
                            0,
                            "#0d0887"
                          ],
                          [
                            0.1111111111111111,
                            "#46039f"
                          ],
                          [
                            0.2222222222222222,
                            "#7201a8"
                          ],
                          [
                            0.3333333333333333,
                            "#9c179e"
                          ],
                          [
                            0.4444444444444444,
                            "#bd3786"
                          ],
                          [
                            0.5555555555555556,
                            "#d8576b"
                          ],
                          [
                            0.6666666666666666,
                            "#ed7953"
                          ],
                          [
                            0.7777777777777778,
                            "#fb9f3a"
                          ],
                          [
                            0.8888888888888888,
                            "#fdca26"
                          ],
                          [
                            1,
                            "#f0f921"
                          ]
                        ],
                        "type": "histogram2dcontour"
                      }
                    ],
                    "mesh3d": [
                      {
                        "colorbar": {
                          "outlinewidth": 0,
                          "ticks": ""
                        },
                        "type": "mesh3d"
                      }
                    ],
                    "parcoords": [
                      {
                        "line": {
                          "colorbar": {
                            "outlinewidth": 0,
                            "ticks": ""
                          }
                        },
                        "type": "parcoords"
                      }
                    ],
                    "pie": [
                      {
                        "automargin": true,
                        "type": "pie"
                      }
                    ],
                    "scatter": [
                      {
                        "fillpattern": {
                          "fillmode": "overlay",
                          "size": 10,
                          "solidity": 0.2
                        },
                        "type": "scatter"
                      }
                    ],
                    "scatter3d": [
                      {
                        "line": {
                          "colorbar": {
                            "outlinewidth": 0,
                            "ticks": ""
                          }
                        },
                        "marker": {
                          "colorbar": {
                            "outlinewidth": 0,
                            "ticks": ""
                          }
                        },
                        "type": "scatter3d"
                      }
                    ],
                    "scattercarpet": [
                      {
                        "marker": {
                          "colorbar": {
                            "outlinewidth": 0,
                            "ticks": ""
                          }
                        },
                        "type": "scattercarpet"
                      }
                    ],
                    "scattergeo": [
                      {
                        "marker": {
                          "colorbar": {
                            "outlinewidth": 0,
                            "ticks": ""
                          }
                        },
                        "type": "scattergeo"
                      }
                    ],
                    "scattergl": [
                      {
                        "marker": {
                          "colorbar": {
                            "outlinewidth": 0,
                            "ticks": ""
                          }
                        },
                        "type": "scattergl"
                      }
                    ],
                    "scattermapbox": [
                      {
                        "marker": {
                          "colorbar": {
                            "outlinewidth": 0,
                            "ticks": ""
                          }
                        },
                        "type": "scattermapbox"
                      }
                    ],
                    "scatterpolar": [
                      {
                        "marker": {
                          "colorbar": {
                            "outlinewidth": 0,
                            "ticks": ""
                          }
                        },
                        "type": "scatterpolar"
                      }
                    ],
                    "scatterpolargl": [
                      {
                        "marker": {
                          "colorbar": {
                            "outlinewidth": 0,
                            "ticks": ""
                          }
                        },
                        "type": "scatterpolargl"
                      }
                    ],
                    "scatterternary": [
                      {
                        "marker": {
                          "colorbar": {
                            "outlinewidth": 0,
                            "ticks": ""
                          }
                        },
                        "type": "scatterternary"
                      }
                    ],
                    "surface": [
                      {
                        "colorbar": {
                          "outlinewidth": 0,
                          "ticks": ""
                        },
                        "colorscale": [
                          [
                            0,
                            "#0d0887"
                          ],
                          [
                            0.1111111111111111,
                            "#46039f"
                          ],
                          [
                            0.2222222222222222,
                            "#7201a8"
                          ],
                          [
                            0.3333333333333333,
                            "#9c179e"
                          ],
                          [
                            0.4444444444444444,
                            "#bd3786"
                          ],
                          [
                            0.5555555555555556,
                            "#d8576b"
                          ],
                          [
                            0.6666666666666666,
                            "#ed7953"
                          ],
                          [
                            0.7777777777777778,
                            "#fb9f3a"
                          ],
                          [
                            0.8888888888888888,
                            "#fdca26"
                          ],
                          [
                            1,
                            "#f0f921"
                          ]
                        ],
                        "type": "surface"
                      }
                    ],
                    "table": [
                      {
                        "cells": {
                          "fill": {
                            "color": "#EBF0F8"
                          },
                          "line": {
                            "color": "white"
                          }
                        },
                        "header": {
                          "fill": {
                            "color": "#C8D4E3"
                          },
                          "line": {
                            "color": "white"
                          }
                        },
                        "type": "table"
                      }
                    ]
                  },
                  "layout": {
                    "annotationdefaults": {
                      "arrowcolor": "#2a3f5f",
                      "arrowhead": 0,
                      "arrowwidth": 1
                    },
                    "autotypenumbers": "strict",
                    "coloraxis": {
                      "colorbar": {
                        "outlinewidth": 0,
                        "ticks": ""
                      }
                    },
                    "colorscale": {
                      "diverging": [
                        [
                          0,
                          "#8e0152"
                        ],
                        [
                          0.1,
                          "#c51b7d"
                        ],
                        [
                          0.2,
                          "#de77ae"
                        ],
                        [
                          0.3,
                          "#f1b6da"
                        ],
                        [
                          0.4,
                          "#fde0ef"
                        ],
                        [
                          0.5,
                          "#f7f7f7"
                        ],
                        [
                          0.6,
                          "#e6f5d0"
                        ],
                        [
                          0.7,
                          "#b8e186"
                        ],
                        [
                          0.8,
                          "#7fbc41"
                        ],
                        [
                          0.9,
                          "#4d9221"
                        ],
                        [
                          1,
                          "#276419"
                        ]
                      ],
                      "sequential": [
                        [
                          0,
                          "#0d0887"
                        ],
                        [
                          0.1111111111111111,
                          "#46039f"
                        ],
                        [
                          0.2222222222222222,
                          "#7201a8"
                        ],
                        [
                          0.3333333333333333,
                          "#9c179e"
                        ],
                        [
                          0.4444444444444444,
                          "#bd3786"
                        ],
                        [
                          0.5555555555555556,
                          "#d8576b"
                        ],
                        [
                          0.6666666666666666,
                          "#ed7953"
                        ],
                        [
                          0.7777777777777778,
                          "#fb9f3a"
                        ],
                        [
                          0.8888888888888888,
                          "#fdca26"
                        ],
                        [
                          1,
                          "#f0f921"
                        ]
                      ],
                      "sequentialminus": [
                        [
                          0,
                          "#0d0887"
                        ],
                        [
                          0.1111111111111111,
                          "#46039f"
                        ],
                        [
                          0.2222222222222222,
                          "#7201a8"
                        ],
                        [
                          0.3333333333333333,
                          "#9c179e"
                        ],
                        [
                          0.4444444444444444,
                          "#bd3786"
                        ],
                        [
                          0.5555555555555556,
                          "#d8576b"
                        ],
                        [
                          0.6666666666666666,
                          "#ed7953"
                        ],
                        [
                          0.7777777777777778,
                          "#fb9f3a"
                        ],
                        [
                          0.8888888888888888,
                          "#fdca26"
                        ],
                        [
                          1,
                          "#f0f921"
                        ]
                      ]
                    },
                    "colorway": [
                      "#636efa",
                      "#EF553B",
                      "#00cc96",
                      "#ab63fa",
                      "#FFA15A",
                      "#19d3f3",
                      "#FF6692",
                      "#B6E880",
                      "#FF97FF",
                      "#FECB52"
                    ],
                    "font": {
                      "color": "#2a3f5f"
                    },
                    "geo": {
                      "bgcolor": "white",
                      "lakecolor": "white",
                      "landcolor": "#E5ECF6",
                      "showlakes": true,
                      "showland": true,
                      "subunitcolor": "white"
                    },
                    "hoverlabel": {
                      "align": "left"
                    },
                    "hovermode": "closest",
                    "mapbox": {
                      "style": "light"
                    },
                    "paper_bgcolor": "white",
                    "plot_bgcolor": "#E5ECF6",
                    "polar": {
                      "angularaxis": {
                        "gridcolor": "white",
                        "linecolor": "white",
                        "ticks": ""
                      },
                      "bgcolor": "#E5ECF6",
                      "radialaxis": {
                        "gridcolor": "white",
                        "linecolor": "white",
                        "ticks": ""
                      }
                    },
                    "scene": {
                      "xaxis": {
                        "backgroundcolor": "#E5ECF6",
                        "gridcolor": "white",
                        "gridwidth": 2,
                        "linecolor": "white",
                        "showbackground": true,
                        "ticks": "",
                        "zerolinecolor": "white"
                      },
                      "yaxis": {
                        "backgroundcolor": "#E5ECF6",
                        "gridcolor": "white",
                        "gridwidth": 2,
                        "linecolor": "white",
                        "showbackground": true,
                        "ticks": "",
                        "zerolinecolor": "white"
                      },
                      "zaxis": {
                        "backgroundcolor": "#E5ECF6",
                        "gridcolor": "white",
                        "gridwidth": 2,
                        "linecolor": "white",
                        "showbackground": true,
                        "ticks": "",
                        "zerolinecolor": "white"
                      }
                    },
                    "shapedefaults": {
                      "line": {
                        "color": "#2a3f5f"
                      }
                    },
                    "ternary": {
                      "aaxis": {
                        "gridcolor": "white",
                        "linecolor": "white",
                        "ticks": ""
                      },
                      "baxis": {
                        "gridcolor": "white",
                        "linecolor": "white",
                        "ticks": ""
                      },
                      "bgcolor": "#E5ECF6",
                      "caxis": {
                        "gridcolor": "white",
                        "linecolor": "white",
                        "ticks": ""
                      }
                    },
                    "title": {
                      "x": 0.05
                    },
                    "xaxis": {
                      "automargin": true,
                      "gridcolor": "white",
                      "linecolor": "white",
                      "ticks": "",
                      "title": {
                        "standoff": 15
                      },
                      "zerolinecolor": "white",
                      "zerolinewidth": 2
                    },
                    "yaxis": {
                      "automargin": true,
                      "gridcolor": "white",
                      "linecolor": "white",
                      "ticks": "",
                      "title": {
                        "standoff": 15
                      },
                      "zerolinecolor": "white",
                      "zerolinewidth": 2
                    }
                  }
                },
                "title": {
                  "text": "Top 10 Film"
                }
              }
            }
          },
          "metadata": {},
          "output_type": "display_data"
        }
      ],
      "source": [
        "#membuat table plot 10 film dengan rating tertinggi\n",
        "fig = go.Figure(data=[go.Table(header=dict(values=['Title','Rating','Votes'],fill_color='paleturquoise',height=30,align='left',font=dict(color='black', size=13)),\n",
        "                              cells = dict(values=[top5film['Title'], top5film['Rating'],top5film['Votes']],fill_color='lavender',height=30,align='left'))])\n",
        "fig.update_layout(title_text=\"Top 10 Film\")\n",
        "\n",
        "fig.show()"
      ]
    },
    {
      "cell_type": "markdown",
      "metadata": {},
      "source": [
        "* Insight\n",
        "<p align=\"justify\">\n",
        "    Berdasarkan visualisasi data diatas dapat mengetahui judul film memiliki rating tertinggi:\n",
        "    <br>\n",
        "    1. Film yang memiliki rating tertinggi yaitu berjudul Aarcane: League of Legends\n",
        "    <br>\n",
        "    \n",
        "</p>"
      ]
    },
    {
      "cell_type": "code",
      "execution_count": 16,
      "metadata": {},
      "outputs": [
        {
          "data": {
            "image/png": "[encoded data removed]",
            "text/plain": [
              "<Figure size 1500x500 with 1 Axes>"
            ]
          },
          "metadata": {},
          "output_type": "display_data"
        }
      ],
      "source": [
        "#melihat korelasi antar variabel metascore dan rating\n",
        "fig = plt.figure(1, figsize=(15,5))\n",
        "plt.subplot(1,3,3)\n",
        "_ = df.plot.scatter(x='Metascore', y='Rating', ax=plt.gca(), title=\"Korelasi antara Rating dan Metascore \")"
      ]
    },
    {
      "cell_type": "markdown",
      "metadata": {
        "id": "4wHEYN4mm8fm"
      },
      "source": [
        "### Implementing your webscrapping to the flask dashboard\n",
        "\n",
        "- Copy paste all of your web scrapping process to the desired position on the `app.py`\n",
        "- Changing the title of the dasboard at `index.html`"
      ]
    },
    {
      "cell_type": "markdown",
      "metadata": {
        "id": "6bi9VQu4m8fm"
      },
      "source": [
        "## Finishing This Notebook with Your Analysis and Conclusion\n",
        "\n",
        "First you can do start with making the data visualisation. "
      ]
    },
    {
      "cell_type": "markdown",
      "metadata": {
        "id": "UE8-yhiEm8ft"
      },
      "source": [
        "Berdasarkan hasil pengolahan data yang diambil dari 50 film paling populer didapatkan di IMDB\n",
        "saya menggunakan tiga pendekatan berbeda\n",
        "1. Pendekatan pertama yang saya ambil adalah untuk mendapatkan 7 film teratas berdasarkan penilaian suara\n",
        "2. Pendekatan kedua saya mendapatkan 10 film memiliki rating tertinggi beserta votes dari penonton menggunakan tabel plot\n",
        "3. Pendekatan ketiga saya membuat scatterplot untuk mengetahui hubungan antar variabel  rating dengan metascore\n",
        "<br>\n",
        "\n",
        "Tiga pendekatan berbeda yang saya sajikan dalam catatan ini adalah untuk menentukan perbedaan antara metode penilaian, Jika kita amati diagram batang ternyata 5 film yang memiliki nilai metascore tertinggi tidak masuk dalam film dengan rating tertinggi, lalu kita amati tabel top rating 5 film penilaian penonton terbesar pada film dengan rating 9.0 hal ini mungkin dapat menjadi acuan penonton untuk menonton film tersebut. kelima film dengan top rating merupakan film bergenre sama. dan korelasi antar variabel dapat kita amati di scatter plot menunjukan tidak adanya hubungan namun untuk  variabel rating memiliki pola yang sama\n",
        "\n",
        "\n"
      ]
    },
    {
      "cell_type": "markdown",
      "metadata": {
        "id": "ZM7B91MVm8ft"
      },
      "source": [
        "### Extra Challange\n",
        "\n",
        "This will be not included to the scoring. \n",
        "\n",
        "- You can create additional analysis from the data.\n",
        "- Implement it to the dashboard with at `app.py` dan `index.html`."
      ]
    },
    {
      "cell_type": "code",
      "execution_count": 17,
      "metadata": {},
      "outputs": [
        {
          "name": "stdout",
          "output_type": "stream",
          "text": [
            "1.23.1\n"
          ]
        }
      ],
      "source": [
        "print(np.__version__)"
      ]
    },
    {
      "cell_type": "code",
      "execution_count": null,
      "metadata": {},
      "outputs": [],
      "source": []
    }
  ],
  "metadata": {
    "colab": {
      "provenance": []
    },
    "interpreter": {
      "hash": "ffee580d6f834b551bdb82b29e84d2c2f435983eba7f34604e7bad79152b4e0c"
    },
    "kernelspec": {
      "display_name": "Python 3.9.13 ('capstone_hanes')",
      "language": "python",
      "name": "python3"
    },
    "language_info": {
      "codemirror_mode": {
        "name": "ipython",
        "version": 3
      },
      "file_extension": ".py",
      "mimetype": "text/x-python",
      "name": "python",
      "nbconvert_exporter": "python",
      "pygments_lexer": "ipython3",
      "version": "3.9.13"
    }
  },
  "nbformat": 4,
  "nbformat_minor": 0
}
